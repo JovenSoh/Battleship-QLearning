{
 "cells": [
  {
   "cell_type": "code",
   "execution_count": 17,
   "metadata": {},
   "outputs": [],
   "source": [
    "import battleship"
   ]
  },
  {
   "cell_type": "code",
   "execution_count": 25,
   "metadata": {},
   "outputs": [
    {
     "name": "stdout",
     "output_type": "stream",
     "text": [
      "   1 2 3 4 5 6 7 8 9 10\n",
      "A  o o o o o o o o o o \n",
      "B  o o o o o o * * * o \n",
      "C  * o o o o o o o * o \n",
      "D  * o o o o o o o * o \n",
      "E  * o o o o o o o o o \n",
      "F  * o o o o * o o o o \n",
      "G  o o o o o * o o o o \n",
      "H  o o o o o * o o o o \n",
      "I  o * * * o * o o o o \n",
      "J  o o o o o * o o o o \n"
     ]
    }
   ],
   "source": [
    "game = battleship.create_bot()\n",
    "battleship.display(game)"
   ]
  }
 ],
 "metadata": {
  "kernelspec": {
   "display_name": "Python 3",
   "language": "python",
   "name": "python3"
  },
  "language_info": {
   "codemirror_mode": {
    "name": "ipython",
    "version": 3
   },
   "file_extension": ".py",
   "mimetype": "text/x-python",
   "name": "python",
   "nbconvert_exporter": "python",
   "pygments_lexer": "ipython3",
   "version": "3.7.2"
  }
 },
 "nbformat": 4,
 "nbformat_minor": 2
}
